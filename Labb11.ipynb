{
 "cells": [
  {
   "cell_type": "code",
   "execution_count": 4,
   "metadata": {},
   "outputs": [],
   "source": [
    "temperature = 85\n",
    "is_it_hot = None\n",
    "if temperature > 80:\n",
    "    is_it_hot = \"It is so hot out!\"\n",
    "else:\n",
    "    is_it_hot = \"This is nothing! Bring on the heat.\""
   ]
  },
  {
   "cell_type": "code",
   "execution_count": 5,
   "metadata": {},
   "outputs": [],
   "source": [
    "today_is = 4\n",
    "day_of_the_week = None\n",
    "if today_is == 1:\n",
    "    day_of_the_week = \"Sunday\"\n",
    "elif today_is == 2:\n",
    "    day_of_the_week = \"Monday\"\n",
    "elif today_is == 3:\n",
    "    day_of_the_week = \"Tuesday\"\n",
    "elif today_is == 4:\n",
    "    day_of_the_week = \"Wednesday\"\n",
    "elif today_is == 5:\n",
    "    day_of_the_week = \"Thursday\"\n",
    "elif today_is == 6:\n",
    "    day_of_the_week = \"Friday\"\n",
    "elif today_is == 7:\n",
    "    day_of_the_week = \"Saturday\""
   ]
  },
  {
   "cell_type": "code",
   "execution_count": null,
   "metadata": {},
   "outputs": [],
   "source": []
  }
 ],
 "metadata": {
  "kernelspec": {
   "display_name": "Python 3",
   "language": "python",
   "name": "python3"
  },
  "language_info": {
   "codemirror_mode": {
    "name": "ipython",
    "version": 3
   },
   "file_extension": ".py",
   "mimetype": "text/x-python",
   "name": "python",
   "nbconvert_exporter": "python",
   "pygments_lexer": "ipython3",
   "version": "3.7.4"
  }
 },
 "nbformat": 4,
 "nbformat_minor": 2
}
